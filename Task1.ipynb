{
 "cells": [
  {
   "cell_type": "code",
   "execution_count": 1,
   "metadata": {},
   "outputs": [
    {
     "data": {
      "text/plain": [
       "['dist_sim_data.txt',\n",
       " 'EN-wform.w.2.ppmi.svd.500.rcv_vocab.txt',\n",
       " 'EN_syn_verb.txt',\n",
       " 'GoogleNews-vectors-rcv_vocab.txt',\n",
       " 'readme.md',\n",
       " 'SAT-package-V3.txt']"
      ]
     },
     "execution_count": 1,
     "metadata": {},
     "output_type": "execute_result"
    }
   ],
   "source": [
    "import os\n",
    "\n",
    "import numpy as np\n",
    "from collections import defaultdict\n",
    "from scipy.spatial.distance import cosine, euclidean\n",
    "np.set_printoptions(precision=4)\n",
    "\n",
    "os.listdir('data')"
   ]
  },
  {
   "cell_type": "markdown",
   "metadata": {},
   "source": [
    "## Caculate the count matrix from file"
   ]
  },
  {
   "cell_type": "code",
   "execution_count": 2,
   "metadata": {},
   "outputs": [],
   "source": [
    "word_dict = {}\n",
    "word_count = defaultdict(lambda: defaultdict(int))\n",
    "\n",
    "def get_word_in_dict(word):\n",
    "    if word not in word_dict:\n",
    "        word_dict[word] = len(word_dict)\n",
    "    return word_dict[word]\n",
    "\n",
    "def parse_sentence(words):\n",
    "    prev = ''\n",
    "    for word in words:\n",
    "        if prev != '':\n",
    "            word_count[prev][word] += 1\n",
    "            word_count[word][prev] += 1\n",
    "        if word not in word_dict:\n",
    "            word_dict[word] = len(word_dict)\n",
    "        prev = word\n",
    "            \n",
    "with open(os.path.join('data', 'dist_sim_data.txt')) as f:\n",
    "    for sentence in f:\n",
    "        prev_word = ''\n",
    "        parse_sentence(sentence.strip('\\n').split(' '))\n",
    "\n",
    "num_words = len(word_dict)\n",
    "count_matrix = np.zeros((num_words, num_words))\n",
    "\n",
    "for word1 in word_dict:\n",
    "    for word2 in word_count[word1]:\n",
    "        idx1, idx2 = word_dict[word1], word_dict[word2]\n",
    "        count_matrix[idx1][idx2] = word_count[word1][word2]"
   ]
  },
  {
   "cell_type": "code",
   "execution_count": 3,
   "metadata": {},
   "outputs": [
    {
     "data": {
      "text/plain": [
       "array([[0., 8., 4., 9., 5., 3., 4.],\n",
       "       [8., 0., 2., 0., 0., 0., 2.],\n",
       "       [4., 2., 0., 0., 2., 0., 0.],\n",
       "       [9., 0., 0., 0., 0., 3., 1.],\n",
       "       [5., 0., 2., 0., 0., 0., 1.],\n",
       "       [3., 0., 0., 3., 0., 0., 0.],\n",
       "       [4., 2., 0., 1., 1., 0., 0.]])"
      ]
     },
     "execution_count": 3,
     "metadata": {},
     "output_type": "execute_result"
    }
   ],
   "source": [
    "count_matrix"
   ]
  },
  {
   "cell_type": "code",
   "execution_count": 4,
   "metadata": {},
   "outputs": [
    {
     "data": {
      "text/plain": [
       "{'the': 0, 'men': 1, 'feed': 2, 'dogs': 3, 'women': 4, 'bite': 5, 'like': 6}"
      ]
     },
     "execution_count": 4,
     "metadata": {},
     "output_type": "execute_result"
    }
   ],
   "source": [
    "word_dict"
   ]
  },
  {
   "cell_type": "markdown",
   "metadata": {},
   "source": [
    "## Calculate the co-occurence probability matrix"
   ]
  },
  {
   "cell_type": "code",
   "execution_count": 5,
   "metadata": {},
   "outputs": [
    {
     "data": {
      "text/plain": [
       "array([[ 1., 81., 41., 91., 51., 31., 41.],\n",
       "       [81.,  1., 21.,  1.,  1.,  1., 21.],\n",
       "       [41., 21.,  1.,  1., 21.,  1.,  1.],\n",
       "       [91.,  1.,  1.,  1.,  1., 31., 11.],\n",
       "       [51.,  1., 21.,  1.,  1.,  1., 11.],\n",
       "       [31.,  1.,  1., 31.,  1.,  1.,  1.],\n",
       "       [41., 21.,  1., 11., 11.,  1.,  1.]])"
      ]
     },
     "execution_count": 5,
     "metadata": {},
     "output_type": "execute_result"
    }
   ],
   "source": [
    "cooc_prop_matrix = count_matrix * 10 + 1\n",
    "cooc_prop_matrix"
   ]
  },
  {
   "cell_type": "code",
   "execution_count": 6,
   "metadata": {},
   "outputs": [
    {
     "data": {
      "text/plain": [
       "array([[0.0021, 0.1731, 0.0876, 0.1944, 0.109 , 0.0662, 0.0876],\n",
       "       [0.    , 0.0021, 0.0449, 0.0021, 0.0021, 0.0021, 0.0449],\n",
       "       [0.    , 0.    , 0.0021, 0.0021, 0.0449, 0.0021, 0.0021],\n",
       "       [0.    , 0.    , 0.    , 0.0021, 0.0021, 0.0662, 0.0235],\n",
       "       [0.    , 0.    , 0.    , 0.    , 0.0021, 0.0021, 0.0235],\n",
       "       [0.    , 0.    , 0.    , 0.    , 0.    , 0.0021, 0.0021],\n",
       "       [0.    , 0.    , 0.    , 0.    , 0.    , 0.    , 0.0021]])"
      ]
     },
     "execution_count": 6,
     "metadata": {},
     "output_type": "execute_result"
    }
   ],
   "source": [
    "cooc_prop_matrix = np.triu(cooc_prop_matrix)\n",
    "cooc_prop_matrix = cooc_prop_matrix / np.sum(cooc_prop_matrix)\n",
    "cooc_prop_matrix"
   ]
  },
  {
   "cell_type": "markdown",
   "metadata": {},
   "source": [
    "### Copy the upper half back to the bottom."
   ]
  },
  {
   "cell_type": "code",
   "execution_count": 7,
   "metadata": {},
   "outputs": [
    {
     "data": {
      "text/plain": [
       "array([[0.0021, 0.1731, 0.0876, 0.1944, 0.109 , 0.0662, 0.0876],\n",
       "       [0.1731, 0.0021, 0.0449, 0.0021, 0.0021, 0.0021, 0.0449],\n",
       "       [0.0876, 0.0449, 0.0021, 0.0021, 0.0449, 0.0021, 0.0021],\n",
       "       [0.1944, 0.0021, 0.0021, 0.0021, 0.0021, 0.0662, 0.0235],\n",
       "       [0.109 , 0.0021, 0.0449, 0.0021, 0.0021, 0.0021, 0.0235],\n",
       "       [0.0662, 0.0021, 0.0021, 0.0662, 0.0021, 0.0021, 0.0021],\n",
       "       [0.0876, 0.0449, 0.0021, 0.0235, 0.0235, 0.0021, 0.0021]])"
      ]
     },
     "execution_count": 7,
     "metadata": {},
     "output_type": "execute_result"
    }
   ],
   "source": [
    "cooc_prop_matrix = cooc_prop_matrix + cooc_prop_matrix.T - np.diag(cooc_prop_matrix.diagonal())\n",
    "cooc_prop_matrix"
   ]
  },
  {
   "cell_type": "code",
   "execution_count": 8,
   "metadata": {},
   "outputs": [
    {
     "data": {
      "text/plain": [
       "array([0.375 , 0.1364, 0.0909, 0.1477, 0.0909, 0.0682, 0.0909])"
      ]
     },
     "execution_count": 8,
     "metadata": {},
     "output_type": "execute_result"
    }
   ],
   "source": [
    "word_prop = np.sum(count_matrix, axis=1)\n",
    "word_prop /= np.sum(word_prop)\n",
    "word_prop"
   ]
  },
  {
   "cell_type": "code",
   "execution_count": 9,
   "metadata": {},
   "outputs": [],
   "source": [
    "ppmi = np.empty((num_words, num_words))\n",
    "for i in range(num_words):\n",
    "    for j in range(num_words):\n",
    "        ppmi[i][j] = max(np.log(cooc_prop_matrix[i][j] / word_prop[i] / word_prop[j]), 0)"
   ]
  },
  {
   "cell_type": "code",
   "execution_count": 10,
   "metadata": {},
   "outputs": [
    {
     "data": {
      "text/plain": [
       "array([1.2556, 0.    , 0.    , 0.    , 0.    , 1.8835, 0.5597])"
      ]
     },
     "execution_count": 10,
     "metadata": {},
     "output_type": "execute_result"
    }
   ],
   "source": [
    "ppmi[word_dict['dogs']]"
   ]
  },
  {
   "cell_type": "code",
   "execution_count": 11,
   "metadata": {},
   "outputs": [
    {
     "data": {
      "text/plain": [
       "array([9., 0., 0., 0., 0., 3., 1.])"
      ]
     },
     "execution_count": 11,
     "metadata": {},
     "output_type": "execute_result"
    }
   ],
   "source": [
    "count_matrix[word_dict['dogs']]"
   ]
  },
  {
   "cell_type": "markdown",
   "metadata": {},
   "source": [
    "Here we can see that the ppmi vector gives a higher weight to \"bite\" and \"like\" over \"the\". \n",
    "\n",
    "This is right because \"the\" can (in both real English and this small corpus) appear together with **almost any noun** while the later two verbs are more informative on the meaning of the word \"dog\"."
   ]
  },
  {
   "cell_type": "code",
   "execution_count": 12,
   "metadata": {},
   "outputs": [],
   "source": [
    "def calc_dist(word1, word2, matrix):\n",
    "    if word1 not in word_dict or word2 not in word_dict:\n",
    "        return\n",
    "    dist = euclidean(matrix[word_dict[word1]], matrix[word_dict[word2]])\n",
    "    print('The distance between %s and %s is %.3f'%(word1, word2, dist))"
   ]
  },
  {
   "cell_type": "markdown",
   "metadata": {},
   "source": [
    "### Distance calculated by using ppmi"
   ]
  },
  {
   "cell_type": "code",
   "execution_count": 13,
   "metadata": {},
   "outputs": [
    {
     "name": "stdout",
     "output_type": "stream",
     "text": [
      "The distance between women and men is 0.475\n",
      "The distance between women and dogs is 2.580\n",
      "The distance between dogs and men is 2.394\n",
      "The distance between feed and like is 0.855\n",
      "The distance between feed and bite is 2.840\n",
      "The distance between like and bite is 2.121\n"
     ]
    }
   ],
   "source": [
    "calc_dist('women', 'men', ppmi)\n",
    "calc_dist('women', 'dogs', ppmi)\n",
    "calc_dist('dogs', 'men', ppmi)\n",
    "calc_dist('feed', 'like', ppmi)\n",
    "calc_dist('feed', 'bite', ppmi)\n",
    "calc_dist('like', 'bite', ppmi)"
   ]
  },
  {
   "cell_type": "markdown",
   "metadata": {},
   "source": [
    "We can see the distances calculated agree with our intuition."
   ]
  },
  {
   "cell_type": "code",
   "execution_count": 14,
   "metadata": {},
   "outputs": [],
   "source": [
    "from scipy.linalg import svd\n",
    "\n",
    "U, E, Vt = svd(ppmi, full_matrices=False)\n",
    "U = np.matrix(U)\n",
    "E = np.matrix(np.diag(E))\n",
    "Vt = np.matrix(Vt)\n",
    "V = Vt.T\n",
    "reduced_ppmi = ppmi * V[:, 0:3]"
   ]
  },
  {
   "cell_type": "code",
   "execution_count": 15,
   "metadata": {},
   "outputs": [
    {
     "data": {
      "text/plain": [
       "(7, 3)"
      ]
     },
     "execution_count": 15,
     "metadata": {},
     "output_type": "execute_result"
    }
   ],
   "source": [
    "reduced_ppmi.shape\n",
    "# ppmi was a 7x7 matrix"
   ]
  },
  {
   "cell_type": "markdown",
   "metadata": {},
   "source": [
    "### Distance calculated by using SVD-reduced ppmi"
   ]
  },
  {
   "cell_type": "code",
   "execution_count": 16,
   "metadata": {},
   "outputs": [
    {
     "name": "stdout",
     "output_type": "stream",
     "text": [
      "The distance between women and men is 0.157\n",
      "The distance between women and dogs is 1.992\n",
      "The distance between dogs and men is 1.837\n",
      "The distance between feed and like is 0.569\n",
      "The distance between feed and bite is 2.277\n",
      "The distance between like and bite is 1.719\n"
     ]
    }
   ],
   "source": [
    "calc_dist('women', 'men', reduced_ppmi)\n",
    "calc_dist('women', 'dogs', reduced_ppmi)\n",
    "calc_dist('dogs', 'men', reduced_ppmi)\n",
    "calc_dist('feed', 'like', reduced_ppmi)\n",
    "calc_dist('feed', 'bite', reduced_ppmi)\n",
    "calc_dist('like', 'bite', reduced_ppmi)"
   ]
  },
  {
   "cell_type": "markdown",
   "metadata": {},
   "source": [
    "We can see the reduced ppmi matrix still keep the information needed."
   ]
  }
 ],
 "metadata": {
  "kernelspec": {
   "display_name": "Python 3",
   "language": "python",
   "name": "python3"
  },
  "language_info": {
   "codemirror_mode": {
    "name": "ipython",
    "version": 3
   },
   "file_extension": ".py",
   "mimetype": "text/x-python",
   "name": "python",
   "nbconvert_exporter": "python",
   "pygments_lexer": "ipython3",
   "version": "3.6.8"
  }
 },
 "nbformat": 4,
 "nbformat_minor": 2
}
